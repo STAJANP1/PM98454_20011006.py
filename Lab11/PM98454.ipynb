{
 "cells": [
  {
   "cell_type": "code",
   "execution_count": 3,
   "metadata": {
    "colab": {
     "base_uri": "https://localhost:8080/"
    },
    "id": "toTQ3nniY4BR",
    "outputId": "0bd744bf-7ac9-47b2-a038-aac8a0b8dbfb"
   },
   "outputs": [
    {
     "name": "stdout",
     "output_type": "stream",
     "text": [
      "📊 5-Fold Cross-Validation Accuracy:\n",
      "Logistic Regression: 0.6846\n",
      "SVM: 0.8385\n",
      "Naive Bayes: 0.7308\n",
      "Random Forest: 0.6692\n",
      "\n",
      "🔁 Leave-One-Plot-Out Accuracy (Logistic Regression): 0.6796\n"
     ]
    }
   ],
   "source": [
    "import pandas as pd\n",
    "import string\n",
    "from sklearn.model_selection import cross_val_score, GroupKFold\n",
    "from sklearn.feature_extraction.text import TfidfVectorizer\n",
    "from sklearn.pipeline import Pipeline\n",
    "from sklearn.linear_model import LogisticRegression\n",
    "from sklearn.svm import SVC\n",
    "from sklearn.naive_bayes import MultinomialNB\n",
    "from sklearn.ensemble import RandomForestClassifier\n",
    "from sklearn.preprocessing import LabelEncoder\n",
    "\n",
    "# Load data\n",
    "data_path = \"C:/Users/Siddhesh/Desktop/IS733/data_stories_one_shot.csv\"\n",
    "df = pd.read_csv(data_path)\n",
    "\n",
    "# Text preprocessing: lowercase + remove punctuation\n",
    "def clean_text(text):\n",
    "    return text.lower().translate(str.maketrans('', '', string.punctuation))\n",
    "\n",
    "df['text'] = df['Sentence'].apply(clean_text)\n",
    "\n",
    "# Encode target: 'Show' = 1, 'Tell' = 0\n",
    "df['target'] = df['Stage'].apply(lambda x: 'Show' if x == 1 else 'Tell')\n",
    "label_encoder = LabelEncoder()\n",
    "df['target_encoded'] = label_encoder.fit_transform(df['target'])\n",
    "\n",
    "# Define models and names\n",
    "models = [\n",
    "    ('Logistic Regression', LogisticRegression(max_iter=1000)),\n",
    "    ('SVM', SVC(kernel='linear')),\n",
    "    ('Naive Bayes', MultinomialNB()),\n",
    "    ('Random Forest', RandomForestClassifier())\n",
    "]\n",
    "\n",
    "# Function to evaluate model using 5-fold CV\n",
    "def evaluate_model(model_name, model_obj):\n",
    "    pipeline = Pipeline([\n",
    "        ('tfidf', TfidfVectorizer()),\n",
    "        ('classifier', model_obj)\n",
    "    ])\n",
    "    scores = cross_val_score(pipeline, df['text'], df['target_encoded'], cv=5, scoring='accuracy')\n",
    "    return model_name, scores.mean()\n",
    "\n",
    "# Run 5-Fold CV for all models\n",
    "print(\"📊 5-Fold Cross-Validation Accuracy:\")\n",
    "for name, model in models:\n",
    "    model_name, avg_score = evaluate_model(name, model)\n",
    "    print(f\"{model_name}: {avg_score:.4f}\")\n",
    "\n",
    "# Leave-One-Plot-Out Cross-Validation using Logistic Regression\n",
    "lopo = GroupKFold(n_splits=len(df['Plot_Name'].unique()))\n",
    "logreg_pipeline = Pipeline([\n",
    "    ('tfidf', TfidfVectorizer()),\n",
    "    ('classifier', LogisticRegression(max_iter=1000))\n",
    "])\n",
    "lopo_scores = cross_val_score(\n",
    "    logreg_pipeline,\n",
    "    df['text'],\n",
    "    df['target_encoded'],\n",
    "    cv=lopo.split(df['text'], df['target_encoded'], groups=df['Plot_Name'])\n",
    ")\n",
    "\n",
    "print(f\"\\n🔁 Leave-One-Plot-Out Accuracy (Logistic Regression): {lopo_scores.mean():.4f}\")\n"
   ]
  },
  {
   "cell_type": "code",
   "execution_count": null,
   "metadata": {},
   "outputs": [],
   "source": []
  }
 ],
 "metadata": {
  "colab": {
   "provenance": []
  },
  "kernelspec": {
   "display_name": "Python [conda env:base] *",
   "language": "python",
   "name": "conda-base-py"
  },
  "language_info": {
   "codemirror_mode": {
    "name": "ipython",
    "version": 3
   },
   "file_extension": ".py",
   "mimetype": "text/x-python",
   "name": "python",
   "nbconvert_exporter": "python",
   "pygments_lexer": "ipython3",
   "version": "3.12.7"
  }
 },
 "nbformat": 4,
 "nbformat_minor": 4
}
